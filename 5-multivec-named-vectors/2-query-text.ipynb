{
 "cells": [
  {
   "cell_type": "code",
   "execution_count": 3,
   "metadata": {},
   "outputs": [],
   "source": [
    "import os\n",
    "from dotenv import load_dotenv, find_dotenv\n",
    "_ = load_dotenv(find_dotenv()) # read local .env file\n",
    "AI_STUDIO_KEY = os.getenv(\"GOOGLE_AI_STUDIO_KEY\")"
   ]
  },
  {
   "cell_type": "code",
   "execution_count": 4,
   "metadata": {},
   "outputs": [
    {
     "data": {
      "text/plain": [
       "True"
      ]
     },
     "execution_count": 4,
     "metadata": {},
     "output_type": "execute_result"
    }
   ],
   "source": [
    "import weaviate, os\n",
    "\n",
    "# Connect to the local instance deployed with Docker Compose\n",
    "client = weaviate.connect_to_local(\n",
    "    headers={\n",
    "        \"X-Google-Api-Key\": AI_STUDIO_KEY,\n",
    "    }\n",
    ")\n",
    "\n",
    "client.is_ready()"
   ]
  },
  {
   "cell_type": "markdown",
   "metadata": {},
   "source": [
    "## Data Preview"
   ]
  },
  {
   "cell_type": "code",
   "execution_count": 8,
   "metadata": {},
   "outputs": [
    {
     "name": "stdout",
     "output_type": "stream",
     "text": [
      "Aladdin 1992 https://www.themoviedb.org/movie/812 https://image.tmdb.org/t/p/w600_and_h900_bestv2/eLFfl7vS8dkeG1hKp5mwbm37V83.jpg\n",
      "Terminator 2: Judgment Day 1991 https://www.themoviedb.org/movie/280 https://image.tmdb.org/t/p/w600_and_h900_bestv2/5M0j0B18abtBI5gi2RhfjjurTqb.jpg\n",
      "RoboCop 2 1990 https://www.themoviedb.org/movie/5549 https://image.tmdb.org/t/p/w600_and_h900_bestv2/99l6Jt3ygKKmv7K8D6jdLz33tcB.jpg\n",
      "Die Hard 2 1990 https://www.themoviedb.org/movie/1573 https://image.tmdb.org/t/p/w600_and_h900_bestv2/2rto4EhQrUsJoGGgWcwiRv6hB3H.jpg\n",
      "Hot Shots! 1991 https://www.themoviedb.org/movie/9595 https://image.tmdb.org/t/p/w600_and_h900_bestv2/hoPS7RSvdZhZhWf28OfP2IZ0cb3.jpg\n"
     ]
    }
   ],
   "source": [
    "# Get the collection\n",
    "movies = client.collections.get(\"Movies\")\n",
    "\n",
    "response = movies.query.fetch_objects(limit=5)\n",
    "\n",
    "for o in response.objects:\n",
    "    # Print the title and release year (note the release date is a datetime object)\n",
    "    print(\n",
    "        o.properties[\"title\"],\n",
    "        o.properties[\"release_date\"].year,\n",
    "        f\"https://www.themoviedb.org/movie/{o.properties['tmdb_id']}\",\n",
    "        o.properties[\"poster_url\"]\n",
    "    )"
   ]
  },
  {
   "cell_type": "markdown",
   "metadata": {},
   "source": [
    "## Title search"
   ]
  },
  {
   "cell_type": "code",
   "execution_count": 9,
   "metadata": {},
   "outputs": [
    {
     "name": "stdout",
     "output_type": "stream",
     "text": [
      "Home Alone 1990 771 https://image.tmdb.org/t/p/w600_and_h900_bestv2/onTSipZ8R3bliBdKfPtsDuHTdlL.jpg\n",
      "Distance to query: 0.474\n",
      "\n",
      "Home Alone 2: Lost in New York 1992 772 https://image.tmdb.org/t/p/w600_and_h900_bestv2/uuitWHpJwxD1wruFl2nZHIb4UGN.jpg\n",
      "Distance to query: 0.499\n",
      "\n",
      "Delicatessen 1991 892 https://image.tmdb.org/t/p/w600_and_h900_bestv2/gNtOgQHxE5B8e08zuNRAdDpmK5Z.jpg\n",
      "Distance to query: 0.500\n",
      "\n",
      "True Romance 1993 319 https://image.tmdb.org/t/p/w600_and_h900_bestv2/39lXk6ud6KiJgGbbWI2PUKS7y2.jpg\n",
      "Distance to query: 0.502\n",
      "\n",
      "Die Hard 2 1990 1573 https://image.tmdb.org/t/p/w600_and_h900_bestv2/2rto4EhQrUsJoGGgWcwiRv6hB3H.jpg\n",
      "Distance to query: 0.506\n",
      "\n"
     ]
    }
   ],
   "source": [
    "import weaviate.classes.query as wq\n",
    "\n",
    "movies = client.collections.get(\"Movies\")\n",
    "\n",
    "# Perform query\n",
    "response = movies.query.near_text(\n",
    "    query=\"A joyful holiday film\",\n",
    "    target_vector=\"title\",  # The target vector to search against\n",
    "    limit=5,\n",
    "    # return_properties=[\"title\", \"release_date\", \"tmdb_id\", \"poster_url\"],\n",
    "    return_metadata=wq.MetadataQuery(distance=True),\n",
    ")\n",
    "\n",
    "# Inspect the response\n",
    "for o in response.objects:\n",
    "    # Print the title and release year (note the release date is a datetime object)\n",
    "    print(\n",
    "        o.properties[\"title\"],\n",
    "        o.properties[\"release_date\"].year,\n",
    "        o.properties[\"tmdb_id\"],\n",
    "        o.properties[\"poster_url\"]\n",
    "    )\n",
    "\n",
    "    # Print the distance of the object from the query\n",
    "    print(\n",
    "        f\"Distance to query: {o.metadata.distance:.3f}\\n\"\n",
    "    )"
   ]
  },
  {
   "cell_type": "code",
   "execution_count": 10,
   "metadata": {},
   "outputs": [
    {
     "name": "stdout",
     "output_type": "stream",
     "text": [
      "Home Alone 1990 771 https://image.tmdb.org/t/p/w600_and_h900_bestv2/onTSipZ8R3bliBdKfPtsDuHTdlL.jpg\n",
      "Distance to query: 0.414\n",
      "\n",
      "Sleepless in Seattle 1993 858 https://image.tmdb.org/t/p/w600_and_h900_bestv2/iLWsLVrfkFvOXOG9PbUAYg7AK3E.jpg\n",
      "Distance to query: 0.430\n",
      "\n",
      "Home Alone 2: Lost in New York 1992 772 https://image.tmdb.org/t/p/w600_and_h900_bestv2/uuitWHpJwxD1wruFl2nZHIb4UGN.jpg\n",
      "Distance to query: 0.444\n",
      "\n",
      "Scent of a Woman 1992 9475 https://image.tmdb.org/t/p/w600_and_h900_bestv2/f75Fsfx8nA8JfSdJ61jhC8JwHps.jpg\n",
      "Distance to query: 0.444\n",
      "\n",
      "The Nightmare Before Christmas 1993 9479 https://image.tmdb.org/t/p/w600_and_h900_bestv2/oQffRNjK8e19rF7xVYEN8ew0j7b.jpg\n",
      "Distance to query: 0.454\n",
      "\n"
     ]
    }
   ],
   "source": [
    "import weaviate.classes.query as wq\n",
    "\n",
    "# Get the collection\n",
    "movies = client.collections.get(\"Movies\")\n",
    "\n",
    "# Perform query\n",
    "response = movies.query.near_text(\n",
    "    query=\"A joyful holiday film\",\n",
    "    target_vector=\"overview\",  # The target vector to search against\n",
    "    limit=5,\n",
    "    return_metadata=wq.MetadataQuery(distance=True),\n",
    ")\n",
    "\n",
    "# Inspect the response\n",
    "for o in response.objects:\n",
    "    # Print the title and release year (note the release date is a datetime object)\n",
    "    print(\n",
    "        o.properties[\"title\"],\n",
    "        o.properties[\"release_date\"].year,\n",
    "        o.properties[\"tmdb_id\"],\n",
    "        o.properties[\"poster_url\"]\n",
    "    )\n",
    "\n",
    "    # Print the distance of the object from the query\n",
    "    print(\n",
    "        f\"Distance to query: {o.metadata.distance:.3f}\\n\"\n",
    "    )"
   ]
  },
  {
   "cell_type": "code",
   "execution_count": null,
   "metadata": {},
   "outputs": [],
   "source": [
    "client.close()"
   ]
  }
 ],
 "metadata": {
  "kernelspec": {
   "display_name": ".venv",
   "language": "python",
   "name": "python3"
  },
  "language_info": {
   "codemirror_mode": {
    "name": "ipython",
    "version": 3
   },
   "file_extension": ".py",
   "mimetype": "text/x-python",
   "name": "python",
   "nbconvert_exporter": "python",
   "pygments_lexer": "ipython3",
   "version": "3.11.8"
  }
 },
 "nbformat": 4,
 "nbformat_minor": 2
}

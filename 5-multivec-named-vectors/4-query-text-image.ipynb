{
 "cells": [
  {
   "cell_type": "code",
   "execution_count": null,
   "metadata": {},
   "outputs": [],
   "source": [
    "import os\n",
    "from dotenv import load_dotenv, find_dotenv\n",
    "_ = load_dotenv(find_dotenv()) # read local .env file\n",
    "AI_STUDIO_KEY = os.getenv(\"GOOGLE_AI_STUDIO_KEY\")\n",
    "\n",
    "VERTEX_AI_KEY = os.getenv(\"GOOGLE_VERTEX_AI_KEY\")\n",
    "VERTEX_AI_PROJECT = os.getenv(\"GOOGLE_VERTEX_AI_PROJECT\")"
   ]
  },
  {
   "cell_type": "code",
   "execution_count": null,
   "metadata": {},
   "outputs": [],
   "source": [
    "# VERTEX_AI_KEY = \"ya29.a0AXooCgskulIrPZyuV...\""
   ]
  },
  {
   "cell_type": "markdown",
   "metadata": {},
   "source": [
    "## Connect with Vertex AI key"
   ]
  },
  {
   "cell_type": "code",
   "execution_count": null,
   "metadata": {},
   "outputs": [],
   "source": [
    "import weaviate\n",
    "\n",
    "# Connect to the local instance deployed with Docker Compose\n",
    "client = weaviate.connect_to_local(\n",
    "    headers={\n",
    "        \"X-Google-Api-Key\": VERTEX_AI_KEY,\n",
    "        \"X-Google-Studio-Api-Key\": AI_STUDIO_KEY,\n",
    "    }\n",
    ")\n",
    "\n",
    "client.is_ready()"
   ]
  },
  {
   "cell_type": "markdown",
   "metadata": {},
   "source": [
    "## Connect with CLIP"
   ]
  },
  {
   "cell_type": "code",
   "execution_count": null,
   "metadata": {},
   "outputs": [],
   "source": [
    "import weaviate\n",
    "\n",
    "# Connect to the local instance deployed with Docker Compose\n",
    "client = weaviate.connect_to_local(\n",
    "    headers={\n",
    "        \"X-Google-Studio-Api-Key\": AI_STUDIO_KEY,\n",
    "    }\n",
    ")"
   ]
  },
  {
   "cell_type": "markdown",
   "metadata": {},
   "source": [
    "## Search\n",
    "### On `title` vector"
   ]
  },
  {
   "cell_type": "code",
   "execution_count": null,
   "metadata": {},
   "outputs": [],
   "source": [
    "import weaviate.classes.query as wq\n",
    "\n",
    "# Get the collection\n",
    "movies = client.collections.get(\"MoviesMM\")\n",
    "\n",
    "# Perform query\n",
    "response = movies.query.near_text(\n",
    "    query=\"Movie about lovable cute pets\",\n",
    "    # query=\"Epic super hero\",\n",
    "    target_vector=\"content\",  # The target vector to search against\n",
    "    limit=5,\n",
    "    return_metadata=wq.MetadataQuery(distance=True),\n",
    ")\n",
    "\n",
    "# Inspect the response\n",
    "for o in response.objects:\n",
    "    # Print the title and release year (note the release date is a datetime object)\n",
    "    print(\n",
    "        o.properties[\"title\"],\n",
    "        o.properties[\"release_date\"].year,\n",
    "        o.properties[\"tmdb_id\"],\n",
    "        o.properties[\"poster_url\"]\n",
    "    )\n",
    "\n",
    "    # Print the distance of the object from the query\n",
    "    print(\n",
    "        f\"Distance to query: {o.metadata.distance:.3f}\\n\"\n",
    "    )"
   ]
  },
  {
   "cell_type": "markdown",
   "metadata": {},
   "source": [
    "### Get the BLOB object for the poster\n",
    "By default, the Weaviate doesn't return blob objects, as they tend to be large, and it is a lot more efficient to skip them.\n",
    "\n",
    "In order to get the `poster`, you need to use `return_properties` and request it along other required properties."
   ]
  },
  {
   "cell_type": "code",
   "execution_count": null,
   "metadata": {},
   "outputs": [],
   "source": [
    "import weaviate.classes.query as wq\n",
    "\n",
    "# Get the collection\n",
    "movies = client.collections.get(\"MoviesMM\")\n",
    "\n",
    "# Perform query\n",
    "response = movies.query.near_text(\n",
    "    query=\"Movie about lovable cute pets\",\n",
    "    # query=\"Epic super hero\",\n",
    "    target_vector=\"content\",  # The content target vector\n",
    "    limit=5,\n",
    "    return_properties=[\"title\", \"release_date\", \"tmdb_id\", \"poster_path\", \"poster\"], # return poster blob\n",
    "    return_metadata=wq.MetadataQuery(distance=True),\n",
    ")\n",
    "\n",
    "# Inspect the response\n",
    "for o in response.objects:\n",
    "    print(\n",
    "        o.properties[\"title\"],\n",
    "        o.properties[\"release_date\"].year,\n",
    "        o.properties[\"tmdb_id\"],\n",
    "        o.properties[\"poster_path\"],\n",
    "    )\n",
    "\n",
    "    # Print the poster blob\n",
    "    print(o.properties[\"poster\"])\n",
    "\n",
    "    print(\n",
    "        f\"Distance to query: {o.metadata.distance:.3f}\\n\"\n",
    "    )"
   ]
  },
  {
   "cell_type": "markdown",
   "metadata": {},
   "source": [
    "### Image search – On `poster` vector"
   ]
  },
  {
   "cell_type": "code",
   "execution_count": null,
   "metadata": {},
   "outputs": [],
   "source": [
    "import weaviate.classes.query as wq\n",
    "\n",
    "# Get the collection\n",
    "movies = client.collections.get(\"MoviesMM\")\n",
    "\n",
    "# Perform query\n",
    "response = movies.query.near_text(\n",
    "    query=\"Epic super hero\",\n",
    "    target_vector=\"poster\",  # The poster target vector\n",
    "    limit=5,\n",
    "    return_metadata=wq.MetadataQuery(distance=True),\n",
    ")\n",
    "\n",
    "# Inspect the response\n",
    "for o in response.objects:\n",
    "    # Print the title and release year (note the release date is a datetime object)\n",
    "    print(\n",
    "        o.properties[\"title\"],\n",
    "        o.properties[\"release_date\"].year,\n",
    "        o.properties[\"tmdb_id\"],\n",
    "        o.properties[\"poster_path\"],\n",
    "    )\n",
    "\n",
    "    # Print the distance of the object from the query\n",
    "    print(\n",
    "        f\"Distance to query: {o.metadata.distance:.3f}\\n\"\n",
    "    )"
   ]
  },
  {
   "cell_type": "markdown",
   "metadata": {},
   "source": [
    "### `Image search` on `poster` vector"
   ]
  },
  {
   "cell_type": "code",
   "execution_count": null,
   "metadata": {},
   "outputs": [],
   "source": [
    "from IPython.display import Image\n",
    "display(Image(\"./test/mouse.jpg\", width=150))\n",
    "display(Image(\"./test/droid.jpeg\", width=150))\n",
    "display(Image(\"./test/spooky.jpg\", width=250))"
   ]
  },
  {
   "cell_type": "code",
   "execution_count": null,
   "metadata": {},
   "outputs": [],
   "source": [
    "import weaviate.classes.query as wq\n",
    "from pathlib import Path\n",
    "\n",
    "# Get the collection\n",
    "movies = client.collections.get(\"MoviesMM\")\n",
    "\n",
    "# Perform query\n",
    "response = movies.query.near_image(\n",
    "    # near_image=Path(\"./test/mouse.jpg\"),\n",
    "    # near_image=Path(\"./test/droid.jpeg\"),\n",
    "    near_image=Path(\"./test/spooky.jpg\"),\n",
    "    target_vector=\"poster\",  # The target vector to search against\n",
    "    limit=5,\n",
    "    return_metadata=wq.MetadataQuery(distance=True),\n",
    ")\n",
    "\n",
    "# Inspect the response\n",
    "for o in response.objects:\n",
    "    display(Image(o.properties[\"poster_path\"], width=200))\n",
    "\n",
    "    # Print the title and release year (note the release date is a datetime object)\n",
    "    print(\n",
    "        o.properties[\"title\"],\n",
    "        o.properties[\"release_date\"].year,\n",
    "        o.properties[\"tmdb_id\"],\n",
    "        o.properties[\"poster_path\"]\n",
    "    )\n",
    "\n",
    "    # Print the distance of the object from the query\n",
    "    print(\n",
    "        f\"Distance to query: {o.metadata.distance:.3f}\\n\"\n",
    "    )"
   ]
  },
  {
   "cell_type": "code",
   "execution_count": null,
   "metadata": {},
   "outputs": [],
   "source": [
    "client.close()"
   ]
  }
 ],
 "metadata": {
  "kernelspec": {
   "display_name": ".venv",
   "language": "python",
   "name": "python3"
  },
  "language_info": {
   "codemirror_mode": {
    "name": "ipython",
    "version": 3
   },
   "file_extension": ".py",
   "mimetype": "text/x-python",
   "name": "python",
   "nbconvert_exporter": "python",
   "pygments_lexer": "ipython3",
   "version": "3.11.8"
  }
 },
 "nbformat": 4,
 "nbformat_minor": 2
}

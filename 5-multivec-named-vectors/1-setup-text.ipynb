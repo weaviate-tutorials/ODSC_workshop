{
 "cells": [
  {
   "cell_type": "code",
   "execution_count": null,
   "metadata": {},
   "outputs": [],
   "source": [
    "import os\n",
    "from dotenv import load_dotenv, find_dotenv\n",
    "_ = load_dotenv(find_dotenv()) # read local .env file\n",
    "AI_STUDIO_KEY = os.getenv(\"GOOGLE_AI_STUDIO_KEY\")"
   ]
  },
  {
   "cell_type": "code",
   "execution_count": null,
   "metadata": {},
   "outputs": [],
   "source": [
    "!gcloud auth print-access-token"
   ]
  },
  {
   "cell_type": "code",
   "execution_count": null,
   "metadata": {},
   "outputs": [],
   "source": [
    "import weaviate, os\n",
    "\n",
    "# Connect to the local instance deployed with Docker Compose\n",
    "client = weaviate.connect_to_local(\n",
    "    headers={\n",
    "        \"X-Google-Api-Key\": AI_STUDIO_KEY,\n",
    "    }\n",
    ")\n",
    "\n",
    "client.is_ready()"
   ]
  },
  {
   "cell_type": "code",
   "execution_count": null,
   "metadata": {},
   "outputs": [],
   "source": [
    "client.get_meta()"
   ]
  },
  {
   "cell_type": "markdown",
   "metadata": {},
   "source": [
    "## Create a multi-vector collection with Named Vectors"
   ]
  },
  {
   "cell_type": "code",
   "execution_count": null,
   "metadata": {},
   "outputs": [],
   "source": [
    "from weaviate.classes.config import Configure, Property, DataType\n",
    "\n",
    "client.collections.delete(\"Movies\")\n",
    "\n",
    "client.collections.create(\n",
    "    name=\"Movies\",  # The name of the collection ('NV' for named vectors)\n",
    "    properties=[ # optional\n",
    "        Property(name=\"title\", data_type=DataType.TEXT),\n",
    "        Property(name=\"overview\", data_type=DataType.TEXT),\n",
    "        Property(name=\"rating\", data_type=DataType.NUMBER),\n",
    "        Property(name=\"release_date\", data_type=DataType.DATE),\n",
    "        Property(name=\"tmdb_id\", data_type=DataType.INT),\n",
    "        Property(name=\"poster_url\", data_type=DataType.TEXT),\n",
    "    ],\n",
    "    # Define & configure the vectorizer module\n",
    "    vectorizer_config=[\n",
    "        # Vectorize the movie title\n",
    "        Configure.NamedVectors.text2vec_palm(\n",
    "            name=\"title\",\n",
    "            source_properties=[\"title\"],\n",
    "\n",
    "            model_id=\"text-embedding-004\",\n",
    "            api_endpoint=\"generativelanguage.googleapis.com\",\n",
    "            project_id=\"devrel-projects\",\n",
    "        ),\n",
    "        # Vectorize the movie overview (summary)\n",
    "        Configure.NamedVectors.text2vec_palm(\n",
    "            name=\"overview\",\n",
    "            source_properties=[\"overview\"],\n",
    "\n",
    "            model_id=\"text-embedding-004\",\n",
    "            api_endpoint=\"generativelanguage.googleapis.com\",\n",
    "            project_id=\"devrel-projects\",\n",
    "        ),\n",
    "    ],\n",
    ")"
   ]
  },
  {
   "cell_type": "code",
   "execution_count": null,
   "metadata": {},
   "outputs": [],
   "source": [
    "# ## VERTEX AI\n",
    "\n",
    "# from weaviate.classes.config import Configure, Property, DataType\n",
    "\n",
    "# client.collections.delete(\"Movies\")\n",
    "\n",
    "# client.collections.create(\n",
    "#     name=\"Movies\",  # The name of the collection ('NV' for named vectors)\n",
    "#     properties=[ # optional\n",
    "#         Property(name=\"title\", data_type=DataType.TEXT),\n",
    "#         Property(name=\"overview\", data_type=DataType.TEXT),\n",
    "#         Property(name=\"rating\", data_type=DataType.NUMBER),\n",
    "#         Property(name=\"release_date\", data_type=DataType.DATE),\n",
    "#         Property(name=\"tmdb_id\", data_type=DataType.INT),\n",
    "#         Property(name=\"poster_url\", data_type=DataType.TEXT),\n",
    "#     ],\n",
    "#     # Define & configure the vectorizer module\n",
    "#     vectorizer_config=[\n",
    "#         # Vectorize the movie title\n",
    "#         Configure.NamedVectors.text2vec_palm(\n",
    "#             name=\"title\",\n",
    "#             source_properties=[\"title\"],\n",
    "\n",
    "#             project_id=\"devrel-projects\",\n",
    "#             model_id=\"text-embedding-preview-0409\"\n",
    "#         ),\n",
    "#         # Vectorize the movie overview (summary)\n",
    "#         Configure.NamedVectors.text2vec_palm(\n",
    "#             name=\"overview\",\n",
    "#             source_properties=[\"overview\"],\n",
    "\n",
    "#             project_id=\"devrel-projects\",\n",
    "#             model_id=\"text-embedding-preview-0409\"\n",
    "#         ),\n",
    "#     ],\n",
    "#     # Define the generative module\n",
    "#     # generative_config=Configure.Generative.palm(\"gpt-4\"),\n",
    "# )"
   ]
  },
  {
   "cell_type": "markdown",
   "metadata": {},
   "source": [
    "## Load data"
   ]
  },
  {
   "cell_type": "code",
   "execution_count": null,
   "metadata": {},
   "outputs": [],
   "source": [
    "import pandas as pd\n",
    "\n",
    "df = pd.read_json(\"./data/movies_data_1990_2024.json\")\n",
    "df.head()"
   ]
  },
  {
   "cell_type": "code",
   "execution_count": null,
   "metadata": {},
   "outputs": [],
   "source": [
    "from datetime import datetime, timezone\n",
    "\n",
    "for i, movie in enumerate(df.itertuples(index=False)):\n",
    "\n",
    "    # Convert a JSON date to `datetime` and add time zone information\n",
    "    release_date = datetime.strptime(movie.release_date, \"%Y-%m-%d\").replace(\n",
    "        tzinfo=timezone.utc\n",
    "    )\n",
    "\n",
    "    movie_obj = {\n",
    "        \"title\": movie.title,\n",
    "        \"overview\": movie.overview,\n",
    "        \"rating\": movie.vote_average,\n",
    "        \"release_date\": release_date,\n",
    "        \"tmdb_id\": movie.id, # https://www.themoviedb.org/movie/{tmdb_id}\n",
    "        # \"poster_url\": f\"https://image.tmdb.org/t/p/w300_and_h450_bestv2//{movie.poster_path}\"\n",
    "        \"poster_url\": f\"https://image.tmdb.org/t/p/w600_and_h900_bestv2{movie.poster_path}\"\n",
    "    }\n",
    "\n",
    "    print(movie_obj)"
   ]
  },
  {
   "cell_type": "markdown",
   "metadata": {},
   "source": [
    "### Insert with Batch"
   ]
  },
  {
   "cell_type": "code",
   "execution_count": null,
   "metadata": {},
   "outputs": [],
   "source": [
    "from datetime import datetime, timezone\n",
    "from weaviate.util import generate_uuid5\n",
    "\n",
    "counter = 0\n",
    "\n",
    "movies = client.collections.get(\"Movies\")\n",
    "with movies.batch.rate_limit(50) as batch:\n",
    "    for i, movie in enumerate(df.itertuples(index=False)):\n",
    "        print(f\"Adding: {movie.title}\")\n",
    "\n",
    "        # Convert a JSON date to `datetime` and add time zone information\n",
    "        release_date = datetime.strptime(movie.release_date, \"%Y-%m-%d\").replace(\n",
    "            tzinfo=timezone.utc\n",
    "        )\n",
    "\n",
    "        movie_obj = {\n",
    "            \"title\": movie.title,\n",
    "            \"overview\": movie.overview,\n",
    "            \"rating\": movie.vote_average,\n",
    "            \"release_date\": release_date,\n",
    "            \"tmdb_id\": movie.id, # https://www.themoviedb.org/movie/{tmdb_id}\n",
    "            # \"poster_url\": f\"https://image.tmdb.org/t/p/w300_and_h450_bestv2//{movie.poster_path}\"\n",
    "            \"poster_url\": f\"https://image.tmdb.org/t/p/w600_and_h900_bestv2{movie.poster_path}\"\n",
    "        }\n",
    "\n",
    "        # print(movie_obj)\n",
    "        batch.add_object(\n",
    "            properties=movie_obj,\n",
    "            uuid=generate_uuid5(movie.id)\n",
    "        )\n",
    "\n",
    "        counter += 1\n",
    "        if(counter == 100):\n",
    "            break"
   ]
  },
  {
   "cell_type": "markdown",
   "metadata": {},
   "source": [
    "### Check for batch errors"
   ]
  },
  {
   "cell_type": "code",
   "execution_count": null,
   "metadata": {},
   "outputs": [],
   "source": [
    "# Check for failed objects\n",
    "if len(movies.batch.failed_objects) > 0:\n",
    "    print(f\"Failed to import {len(movies.batch.failed_objects)} objects\")\n",
    "    for failed in movies.batch.failed_objects:\n",
    "        print(f\"e.g. Failed to import object with error: {failed.message}\")\n",
    "else:\n",
    "    print(\"no errors\")"
   ]
  },
  {
   "cell_type": "markdown",
   "metadata": {},
   "source": [
    "### Check object count"
   ]
  },
  {
   "cell_type": "code",
   "execution_count": null,
   "metadata": {},
   "outputs": [],
   "source": [
    "movies.aggregate.over_all()"
   ]
  },
  {
   "cell_type": "markdown",
   "metadata": {},
   "source": [
    "## Show vectors"
   ]
  },
  {
   "cell_type": "code",
   "execution_count": null,
   "metadata": {},
   "outputs": [],
   "source": [
    "response = movies.query.fetch_objects(limit=1, include_vector=True)\n",
    "print(\"Title:   \", response.objects[0].vector[\"title\"])\n",
    "print(\"Overview:\", response.objects[0].vector[\"overview\"])"
   ]
  },
  {
   "cell_type": "code",
   "execution_count": null,
   "metadata": {},
   "outputs": [],
   "source": [
    "client.close()"
   ]
  }
 ],
 "metadata": {
  "kernelspec": {
   "display_name": ".venv",
   "language": "python",
   "name": "python3"
  },
  "language_info": {
   "codemirror_mode": {
    "name": "ipython",
    "version": 3
   },
   "file_extension": ".py",
   "mimetype": "text/x-python",
   "name": "python",
   "nbconvert_exporter": "python",
   "pygments_lexer": "ipython3",
   "version": "3.11.8"
  }
 },
 "nbformat": 4,
 "nbformat_minor": 2
}

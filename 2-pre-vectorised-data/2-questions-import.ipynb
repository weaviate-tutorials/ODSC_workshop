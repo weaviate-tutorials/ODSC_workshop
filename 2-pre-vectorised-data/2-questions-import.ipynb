{
 "cells": [
  {
   "cell_type": "markdown",
   "metadata": {},
   "source": [
    "## Connect"
   ]
  },
  {
   "cell_type": "code",
   "execution_count": null,
   "metadata": {},
   "outputs": [],
   "source": [
    "import weaviate\n",
    "\n",
    "# Connect to the local instance deployed with Docker Compose\n",
    "client = weaviate.connect_to_local()\n",
    "\n",
    "client.is_ready()"
   ]
  },
  {
   "cell_type": "code",
   "execution_count": null,
   "metadata": {},
   "outputs": [],
   "source": [
    "import weaviate, os\n",
    "\n",
    "# Connect to a Weaviate Cloud instance\n",
    "client = weaviate.connect_to_wcs(\n",
    "    cluster_url=os.getenv(\"WORKSHOP_DEMO_URL\"),\n",
    "    auth_credentials=weaviate.auth.AuthApiKey(os.getenv(\"WORKSHOP_DEMO_KEY_ADMIN\")),\n",
    ")\n",
    "\n",
    "client.is_ready()"
   ]
  },
  {
   "cell_type": "markdown",
   "metadata": {},
   "source": [
    "## Load the data file"
   ]
  },
  {
   "cell_type": "code",
   "execution_count": null,
   "metadata": {},
   "outputs": [],
   "source": [
    "import json\n",
    "\n",
    "with open(\"./questions-with-vectors.json\") as file:\n",
    "    data_1k = json.load(file)\n",
    "\n",
    "print(json.dumps(data_1k[0], indent=2))"
   ]
  },
  {
   "cell_type": "markdown",
   "metadata": {},
   "source": [
    "## Create a new collection with a vectorizer"
   ]
  },
  {
   "cell_type": "code",
   "execution_count": null,
   "metadata": {},
   "outputs": [],
   "source": [
    "from weaviate.classes.config import Configure, Property, DataType\n",
    "\n",
    "client.collections.delete(\"Questions\")\n",
    "\n",
    "# Create a collection here - with text2vec_palm as a vectorizer\n",
    "client.collections.create(\n",
    "    name=\"Questions\",\n",
    "    \n",
    "    # TODO: configure the text2vec_palm with the \"embedding-001\" model\n",
    "    # vectorizer_config=Configure.Vectorizer.text2vec_palm\n",
    "\n",
    "    properties=[  # Define properties (Optional)\n",
    "        Property(name=\"question\", data_type=DataType.TEXT),\n",
    "        Property(name=\"answer\", data_type=DataType.TEXT),\n",
    "        Property(name=\"category\", data_type=DataType.TEXT, skip_vectorization=True),\n",
    "        Property(name=\"round\", data_type=DataType.TEXT, skip_vectorization=True),\n",
    "        Property(name=\"points\", data_type=DataType.NUMBER),\n",
    "        Property(name=\"airDate\", data_type=DataType.DATE),\n",
    "    ],\n",
    ")"
   ]
  },
  {
   "cell_type": "markdown",
   "metadata": {},
   "source": [
    "## Batch import data\n",
    "[Weaviate Docs - Batch import data](https://weaviate.io/developers/weaviate/manage-data/import)"
   ]
  },
  {
   "cell_type": "code",
   "execution_count": null,
   "metadata": {},
   "outputs": [],
   "source": [
    "print(f\"Importing {len(data_1k)} data items.\")\n",
    "\n",
    "counter = 0\n",
    "\n",
    "questions = client.collections.get(\"Questions\")\n",
    "# TODO: configre batch with fixed size 100 and concurrent_requests set to 2\n",
    "# with questions.batch... as batch:\n",
    "    for item in data_1k:\n",
    "        vector = item[\"vector\"][\"default\"]\n",
    "        data_to_insert = {   \n",
    "            \"round\": item[\"round\"],\n",
    "            \"points\": item[\"points\"],\n",
    "            \"answer\": item[\"answer\"],\n",
    "            \"airDate\": item[\"airDate\"],\n",
    "            \"question\": item[\"question\"],\n",
    "            \"category\": item[\"category\"],\n",
    "        }\n",
    "\n",
    "        # TODO add objects properties and vector to batch\n",
    "\n",
    "\n",
    "        counter+=1\n",
    "        if(counter % 100 == 0):\n",
    "            print(f\"Importing {counter}\")"
   ]
  },
  {
   "cell_type": "code",
   "execution_count": null,
   "metadata": {},
   "outputs": [],
   "source": [
    "# check for errors at the end\n",
    "if (len(questions.batch.failed_objects)==0):\n",
    "    print(\"Import complete - no errors\")\n",
    "else:\n",
    "    print(f\"Import complete - with errors {len(questions.batch.failed_objects)}\")\n",
    "    print(\"Last Error: \" + questions.batch.failed_objects[-1])\n",
    "\n",
    "print(f\"Imported {len(data_1k)} items.\")"
   ]
  },
  {
   "cell_type": "code",
   "execution_count": null,
   "metadata": {},
   "outputs": [],
   "source": [
    "# TODO: run aggregate on questions"
   ]
  },
  {
   "cell_type": "markdown",
   "metadata": {},
   "source": [
    "## Preview data with vectors"
   ]
  },
  {
   "cell_type": "code",
   "execution_count": null,
   "metadata": {},
   "outputs": [],
   "source": [
    "# TODO: fetch one object with the vector\n",
    "# TODO: print properties and the vector"
   ]
  },
  {
   "cell_type": "markdown",
   "metadata": {},
   "source": [
    "## Close the client when done"
   ]
  },
  {
   "cell_type": "code",
   "execution_count": null,
   "metadata": {},
   "outputs": [],
   "source": [
    "client.close()"
   ]
  }
 ],
 "metadata": {
  "kernelspec": {
   "display_name": ".venv",
   "language": "python",
   "name": "python3"
  },
  "language_info": {
   "codemirror_mode": {
    "name": "ipython",
    "version": 3
   },
   "file_extension": ".py",
   "mimetype": "text/x-python",
   "name": "python",
   "nbconvert_exporter": "python",
   "pygments_lexer": "ipython3",
   "version": "3.11.8"
  }
 },
 "nbformat": 4,
 "nbformat_minor": 2
}

{
 "cells": [
  {
   "cell_type": "code",
   "execution_count": null,
   "metadata": {},
   "outputs": [],
   "source": [
    "import os\n",
    "from dotenv import load_dotenv, find_dotenv\n",
    "_ = load_dotenv(find_dotenv()) # read local .env file\n",
    "AI_STUDIO_KEY = os.getenv(\"GOOGLE_AI_STUDIO_KEY\")"
   ]
  },
  {
   "cell_type": "markdown",
   "metadata": {},
   "source": [
    "## Connect\n"
   ]
  },
  {
   "cell_type": "code",
   "execution_count": null,
   "metadata": {},
   "outputs": [],
   "source": [
    "import weaviate\n",
    "\n",
    "# Connect to the local instance deployed with Docker Compose\n",
    "client = weaviate.connect_to_local(\n",
    "    headers={\n",
    "       \"X-Google-Api-Key\": AI_STUDIO_KEY,\n",
    "    }\n",
    ")\n",
    "\n",
    "client.is_ready()"
   ]
  },
  {
   "cell_type": "code",
   "execution_count": null,
   "metadata": {},
   "outputs": [],
   "source": [
    "import weaviate, os\n",
    "\n",
    "client = weaviate.connect_to_wcs(\n",
    "    cluster_url=os.getenv(\"WORKSHOP_DEMO_URL\"),\n",
    "    auth_credentials=weaviate.auth.AuthApiKey(os.getenv(\"WORKSHOP_DEMO_KEY_ADMIN\")),\n",
    "    headers={\n",
    "       \"X-Palm-Api-Key\": AI_STUDIO_KEY,\n",
    "    }\n",
    ")\n",
    "\n",
    "client.is_ready()"
   ]
  },
  {
   "cell_type": "markdown",
   "metadata": {},
   "source": [
    "## Create collection with a gerative model"
   ]
  },
  {
   "cell_type": "code",
   "execution_count": null,
   "metadata": {},
   "outputs": [],
   "source": [
    "from weaviate.classes.config import Configure, Property, DataType\n",
    "\n",
    "if (client.collections.exists(\"Papers\")):\n",
    "    client.collections.delete(\"Papers\")\n",
    "\n",
    "client.collections.create(\n",
    "    \"Papers\",\n",
    "    vectorizer_config=Configure.Vectorizer.text2vec_palm(\n",
    "        model_id=\"embedding-001\",\n",
    "\n",
    "        project_id=\"-\", # this needs fixing\n",
    "        api_endpoint=\"generativelanguage.googleapis.com\",\n",
    "    ),\n",
    "    \n",
    "    generative_config=Configure.Generative.palm(\n",
    "        model_id=\"gemini-pro\",\n",
    "        api_endpoint=\"generativelanguage.googleapis.com\",\n",
    "        project_id=\"-\",\n",
    "    ),\n",
    "\n",
    "    properties=[  # Define properties (Optional)\n",
    "        Property(name=\"chunk\", data_type=DataType.TEXT),\n",
    "        Property(name=\"arxiv_id\", data_type=DataType.TEXT, skip_vectorization=True),\n",
    "        Property(name=\"title\", data_type=DataType.TEXT, skip_vectorization=True),\n",
    "        Property(name=\"url\", data_type=DataType.TEXT, skip_vectorization=True),\n",
    "        Property(name=\"chunk_no\", data_type=DataType.INT),\n",
    "    ],\n",
    ")"
   ]
  },
  {
   "cell_type": "markdown",
   "metadata": {},
   "source": [
    "## Close the client when done"
   ]
  },
  {
   "cell_type": "code",
   "execution_count": null,
   "metadata": {},
   "outputs": [],
   "source": [
    "client.close()"
   ]
  }
 ],
 "metadata": {
  "kernelspec": {
   "display_name": ".venv",
   "language": "python",
   "name": "python3"
  },
  "language_info": {
   "codemirror_mode": {
    "name": "ipython",
    "version": 3
   },
   "file_extension": ".py",
   "mimetype": "text/x-python",
   "name": "python",
   "nbconvert_exporter": "python",
   "pygments_lexer": "ipython3",
   "version": "3.11.8"
  }
 },
 "nbformat": 4,
 "nbformat_minor": 2
}

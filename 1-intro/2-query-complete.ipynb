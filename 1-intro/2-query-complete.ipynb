{
 "cells": [
  {
   "cell_type": "markdown",
   "metadata": {},
   "source": [
    "# Time for Search"
   ]
  },
  {
   "cell_type": "code",
   "execution_count": 20,
   "metadata": {},
   "outputs": [],
   "source": [
    "import os\n",
    "from dotenv import load_dotenv, find_dotenv\n",
    "_ = load_dotenv(find_dotenv()) # read local .env file\n",
    "AI_STUDIO_KEY = os.getenv(\"GOOGLE_AI_STUDIO_KEY\")"
   ]
  },
  {
   "cell_type": "markdown",
   "metadata": {},
   "source": [
    "## Connect to Weaviate"
   ]
  },
  {
   "cell_type": "code",
   "execution_count": null,
   "metadata": {},
   "outputs": [],
   "source": [
    "import weaviate, os\n",
    "\n",
    "# Connect to the local instance deployed with Docker Compose\n",
    "client = weaviate.connect_to_local(\n",
    "    headers={\n",
    "        \"X-Google-Api-Key\": AI_STUDIO_KEY,\n",
    "    }\n",
    ")\n",
    "\n",
    "client.is_ready()"
   ]
  },
  {
   "cell_type": "code",
   "execution_count": null,
   "metadata": {},
   "outputs": [],
   "source": [
    "# import weaviate, os\n",
    "\n",
    "# Connect with Weaviate Embedded\n",
    "# client = weaviate.connect_to_embedded(\n",
    "#     version=\"1.24.14\",\n",
    "\n",
    "#     headers={\n",
    "#         \"X-Google-Api-Key\": AI_STUDIO_KEY,\n",
    "#     })\n",
    "\n",
    "# Connect to a Weaviate Cloud instance\n",
    "# client = weaviate.connect_to_wcs(\n",
    "#     cluster_url=os.getenv(\"WORKSHOP_DEMO_URL\"),\n",
    "#     auth_credentials=weaviate.auth.AuthApiKey(os.getenv(\"WORKSHOP_DEMO_KEY_READ\")),\n",
    "\n",
    "#     headers={\n",
    "#        \"X-Palm-Api-Key\": AI_STUDIO_KEY,\n",
    "#     }\n",
    "# )\n",
    "\n",
    "# client.is_ready()"
   ]
  },
  {
   "cell_type": "markdown",
   "metadata": {},
   "source": [
    "## Vector search\n",
    "[Docs - near_text](https://weaviate.io/developers/weaviate/search/similarity#an-input-medium)"
   ]
  },
  {
   "cell_type": "code",
   "execution_count": 41,
   "metadata": {},
   "outputs": [
    {
     "name": "stdout",
     "output_type": "stream",
     "text": [
      "{'answer': 'glass', 'question': 'Flute, tumbler, shot', 'category': 'COMMON BONDS'}\n",
      "{'answer': 'Tinky Winky', 'question': 'The purple Teletubby', 'category': 'RHYME TIME'}\n",
      "{'answer': 'button', 'question': \"Bachelor's, panic, belly\", 'category': 'COMMON BONDS'}\n",
      "{'answer': 'Beauty and the Beast of Burden', 'question': 'Disney musical about a pretty girl named Belle & her hideous camel', 'category': 'BEFORE & AFTER'}\n",
      "{'answer': 'upside-down', 'question': 'Spanish punctuation,  pineapple cake,  people owing $400,000 on a home now worth $300,000', 'category': 'COMMON BONDS'}\n"
     ]
    }
   ],
   "source": [
    "jeopardy = client.collections.get(\"Jeopardy\")\n",
    "\n",
    "response = jeopardy.query.near_text(\n",
    "    query=\"musical instruments\",\n",
    "    limit=5\n",
    ")\n",
    "\n",
    "for item in response.objects:\n",
    "    print(item.properties)"
   ]
  },
  {
   "cell_type": "markdown",
   "metadata": {},
   "source": [
    "## Search with filters\n",
    "[Docs - Filters](https://weaviate.io/developers/weaviate/search/filters)"
   ]
  },
  {
   "cell_type": "code",
   "execution_count": 25,
   "metadata": {},
   "outputs": [
    {
     "name": "stdout",
     "output_type": "stream",
     "text": [
      "{'answer': 'glass', 'question': 'Flute, tumbler, shot', 'category': 'COMMON BONDS'}\n",
      "{'answer': 'button', 'question': \"Bachelor's, panic, belly\", 'category': 'COMMON BONDS'}\n",
      "{'answer': 'upside-down', 'question': 'Spanish punctuation,  pineapple cake,  people owing $400,000 on a home now worth $300,000', 'category': 'COMMON BONDS'}\n",
      "{'answer': 'Things that are spiked', 'question': 'Hair, Punch, A volleyball', 'category': 'COMMON BONDS'}\n",
      "{'answer': 'things that rhyme', 'question': 'Thyme, crime, dime, grime, lime, mime, slime', 'category': 'COMMON BONDS'}\n"
     ]
    }
   ],
   "source": [
    "import weaviate.classes.query as wq\n",
    "jeopardy = client.collections.get(\"Jeopardy\")\n",
    "\n",
    "response = jeopardy.query.near_text(\n",
    "    query=\"musical instruments\",\n",
    "    limit=5,\n",
    "    filters=wq.Filter.by_property(\"category\").like(\"COMMON\")\n",
    ")\n",
    "\n",
    "for item in response.objects:\n",
    "    print(item.properties)"
   ]
  },
  {
   "cell_type": "code",
   "execution_count": 43,
   "metadata": {},
   "outputs": [
    {
     "name": "stdout",
     "output_type": "stream",
     "text": [
      "{'answer': 'Trans-Siberian Railroad', 'question': 'The railroad known by this hyphenated name runs over 5,000 miles from Moscow to Vladivostok', 'category': 'TRANSPORTATION'}\n",
      "{'answer': 'Amtrak', 'question': 'The corporation whose logo is seen here was created in 1971: (AKA the National Railroad Passenger Corporation)', 'category': 'BUSINESS & INDUSTRY'}\n",
      "{'answer': 'San Francisco', 'question': \"This city's Cable Car Museum has one from fhe first company, the Clay Street Hill Railroad\", 'category': 'MUSEUMS'}\n",
      "{'answer': 'a coupler', 'question': \"It's a device used to connect railroad cars; today's automatic knuckle one was patented by Eli Janney in 1873\", 'category': 'TRANSPORTATION'}\n"
     ]
    }
   ],
   "source": [
    "response = jeopardy.query.bm25(\n",
    "    query=\"railroad\",\n",
    "    # query=\"railroad africa\",\n",
    "    limit=10,\n",
    ")\n",
    "\n",
    "\n",
    "for item in response.objects:\n",
    "    print(item.properties)"
   ]
  },
  {
   "cell_type": "code",
   "execution_count": 44,
   "metadata": {},
   "outputs": [
    {
     "name": "stdout",
     "output_type": "stream",
     "text": [
      "{'answer': 'Africa', 'question': 'The black-footed penguin is native to the south of this continent, whose north had the highest temperature on record', 'category': 'SCIENCE & NATURE'}\n",
      "{'answer': 'Trans-Siberian Railroad', 'question': 'The railroad known by this hyphenated name runs over 5,000 miles from Moscow to Vladivostok', 'category': 'TRANSPORTATION'}\n"
     ]
    }
   ],
   "source": [
    "response = jeopardy.query.bm25(\n",
    "    query=\"railroad africa\",\n",
    "    query_properties=[\"answer\"],\n",
    "    limit=10,\n",
    ")\n",
    "\n",
    "\n",
    "for item in response.objects:\n",
    "    print(item.properties)"
   ]
  },
  {
   "cell_type": "markdown",
   "metadata": {},
   "source": [
    "## Hybrid search\n",
    "[Docs - hybrid](https://weaviate.io/developers/weaviate/search/hybrid)"
   ]
  },
  {
   "cell_type": "code",
   "execution_count": 50,
   "metadata": {},
   "outputs": [
    {
     "name": "stdout",
     "output_type": "stream",
     "text": [
      "a coupler  ||  It's a device used to connect railroad cars; today's automatic knuckle one was patented by Eli Janney in 1873\n",
      "Trans-Siberian Railroad  ||  The railroad known by this hyphenated name runs over 5,000 miles from Moscow to Vladivostok\n",
      "San Francisco  ||  This city's Cable Car Museum has one from fhe first company, the Clay Street Hill Railroad\n",
      "Surrender, Dorothy Hamill!  ||  The Wicked Witch of the West's skywritten demand of the 1976 ladies' Olympic figure skating champion\n",
      "Amtrak  ||  The corporation whose logo is seen here was created in 1971: (AKA the National Railroad Passenger Corporation)\n"
     ]
    }
   ],
   "source": [
    "jeopardy = client.collections.get(\"Jeopardy\")\n",
    "\n",
    "response = jeopardy.query.hybrid(\n",
    "    query=\"rail, trains and cars\",\n",
    "    alpha=0.8,\n",
    "    limit=5,\n",
    ")\n",
    "\n",
    "for item in response.objects:\n",
    "    print(item.properties[\"answer\"], \" || \", item.properties[\"question\"])"
   ]
  },
  {
   "cell_type": "code",
   "execution_count": 63,
   "metadata": {},
   "outputs": [
    {
     "name": "stdout",
     "output_type": "stream",
     "text": [
      "Trans-Siberian Railroad  ||  The railroad known by this hyphenated name runs over 5,000 miles from Moscow to Vladivostok\n",
      "a coupler  ||  It's a device used to connect railroad cars; today's automatic knuckle one was patented by Eli Janney in 1873\n",
      "San Francisco  ||  This city's Cable Car Museum has one from fhe first company, the Clay Street Hill Railroad\n",
      "Amtrak  ||  The corporation whose logo is seen here was created in 1971: (AKA the National Railroad Passenger Corporation)\n",
      "pasta  ||  Type of food that comes in shapes of bow ties, elbows & wagon wheels\n"
     ]
    }
   ],
   "source": [
    "jeopardy = client.collections.get(\"Jeopardy\")\n",
    "\n",
    "response = jeopardy.query.hybrid(\n",
    "    query=\"train railroad cars\",\n",
    "    query_properties=[\"answer^5\", \"question\"],\n",
    "    alpha=0.5,\n",
    "    limit=5,\n",
    ")\n",
    "\n",
    "for item in response.objects:\n",
    "    print(item.properties[\"answer\"], \" || \", item.properties[\"question\"])"
   ]
  },
  {
   "cell_type": "code",
   "execution_count": 76,
   "metadata": {},
   "outputs": [
    {
     "name": "stdout",
     "output_type": "stream",
     "text": [
      "\n",
      "Hybrid (Result Set keyword,bm25) Document 9fbdb4aa-9724-4242-9f5e-b4604019c6c3: original score 2.207006, normalized score: 0.5 - \n",
      "Hybrid (Result Set vector,hybridVector) Document 9fbdb4aa-9724-4242-9f5e-b4604019c6c3: original score 0.585617, normalized score: 0.48361167\n",
      "Trans-Siberian Railroad  ||  The railroad known by this hyphenated name runs over 5,000 miles from Moscow to Vladivostok\n",
      "\n",
      "Hybrid (Result Set keyword,bm25) Document 558f18af-870d-451f-a03e-ef46fe2bde0a: original score 2.049873, normalized score: 0.43684438 - \n",
      "Hybrid (Result Set vector,hybridVector) Document 558f18af-870d-451f-a03e-ef46fe2bde0a: original score 0.5919533, normalized score: 0.5\n",
      "a coupler  ||  It's a device used to connect railroad cars; today's automatic knuckle one was patented by Eli Janney in 1873\n",
      "\n",
      "Hybrid (Result Set keyword,bm25) Document a047cdc0-9a37-454e-9ab7-400319d1ec0c: original score 0.96299255, normalized score: 0 - \n",
      "Hybrid (Result Set vector,hybridVector) Document a047cdc0-9a37-454e-9ab7-400319d1ec0c: original score 0.56749177, normalized score: 0.43673196\n",
      "San Francisco  ||  This city's Cable Car Museum has one from fhe first company, the Clay Street Hill Railroad\n",
      "\n",
      "Hybrid (Result Set keyword,bm25) Document c3409a80-92d2-4be8-b614-5147af8100fa: original score 1.0358162, normalized score: 0.029269638 - \n",
      "Hybrid (Result Set vector,hybridVector) Document c3409a80-92d2-4be8-b614-5147af8100fa: original score 0.5544938, normalized score: 0.40311354\n",
      "Amtrak  ||  The corporation whose logo is seen here was created in 1971: (AKA the National Railroad Passenger Corporation)\n",
      "\n",
      "Hybrid (Result Set vector,hybridVector) Document 3495e068-2b40-4172-8dc9-7d65d15abf1e: original score 0.5558534, normalized score: 0.40663016\n",
      "pasta  ||  Type of food that comes in shapes of bow ties, elbows & wagon wheels\n"
     ]
    }
   ],
   "source": [
    "from weaviate.classes.query import MetadataQuery\n",
    "jeopardy = client.collections.get(\"Jeopardy\")\n",
    "\n",
    "response = jeopardy.query.hybrid(\n",
    "    query=\"train railroad cars\",\n",
    "    query_properties=[\"answer^5\", \"question\"],\n",
    "    alpha=0.5,\n",
    "    return_metadata=MetadataQuery(explain_score=True),\n",
    "    limit=5,\n",
    ")\n",
    "\n",
    "for item in response.objects:\n",
    "    print(item.metadata.explain_score)\n",
    "    print(item.properties[\"answer\"], \" || \", item.properties[\"question\"])"
   ]
  },
  {
   "cell_type": "markdown",
   "metadata": {},
   "source": [
    "# ————————— STOP HERE —————————"
   ]
  },
  {
   "cell_type": "markdown",
   "metadata": {},
   "source": []
  },
  {
   "cell_type": "markdown",
   "metadata": {},
   "source": []
  },
  {
   "cell_type": "markdown",
   "metadata": {},
   "source": []
  },
  {
   "cell_type": "markdown",
   "metadata": {},
   "source": []
  },
  {
   "cell_type": "markdown",
   "metadata": {},
   "source": []
  },
  {
   "cell_type": "markdown",
   "metadata": {},
   "source": []
  },
  {
   "cell_type": "markdown",
   "metadata": {},
   "source": [
    "## Retrieval Augmented Generation!!!\n",
    "[Docs - RAG](https://weaviate.io/developers/weaviate/search/generative)"
   ]
  },
  {
   "cell_type": "code",
   "execution_count": null,
   "metadata": {},
   "outputs": [],
   "source": [
    "questions = client.collections.get(\"Questions\")\n",
    "\n",
    "response = questions.generate.near_text(\n",
    "    query=\"musical instruments\",\n",
    "    limit=4,\n",
    "    single_prompt=\"Write a short tweet about: {question}\"\n",
    ")\n",
    "\n",
    "for item in response.objects:\n",
    "    print(item.properties)\n",
    "    print(item.generated)\n"
   ]
  },
  {
   "cell_type": "code",
   "execution_count": null,
   "metadata": {},
   "outputs": [],
   "source": [
    "questions = client.collections.get(\"Questions\")\n",
    "\n",
    "response = questions.generate.near_text(\n",
    "    query=\"musical instruments\",\n",
    "    limit=4,\n",
    "    grouped_task=\"Explain what this content is about.\"\n",
    ")\n",
    "\n",
    "print (response.generated)"
   ]
  }
 ],
 "metadata": {
  "kernelspec": {
   "display_name": "Python 3",
   "language": "python",
   "name": "python3"
  },
  "language_info": {
   "codemirror_mode": {
    "name": "ipython",
    "version": 3
   },
   "file_extension": ".py",
   "mimetype": "text/x-python",
   "name": "python",
   "nbconvert_exporter": "python",
   "pygments_lexer": "ipython3",
   "version": "3.11.8"
  }
 },
 "nbformat": 4,
 "nbformat_minor": 2
}

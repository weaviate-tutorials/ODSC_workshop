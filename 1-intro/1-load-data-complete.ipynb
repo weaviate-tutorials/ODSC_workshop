{
 "cells": [
  {
   "cell_type": "markdown",
   "metadata": {},
   "source": [
    "# Initial Setup\n",
    "> This notebook was created with Weaviate `1.25` and the Weaviate Client `4.6`"
   ]
  },
  {
   "cell_type": "markdown",
   "metadata": {},
   "source": [
    "## Prepare API keys\n",
    "\n",
    "If you are new to Google AI Studio, register at [https://aistudio.google.com](https://aistudio.google.com) and head to [https://aistudio.google.com/app/u/0/apikey](https://aistudio.google.com/app/u/0/apikey) to create your API key.\n",
    "\n",
    "And set them inside the [.env](../.env) file"
   ]
  },
  {
   "cell_type": "code",
   "execution_count": null,
   "metadata": {},
   "outputs": [],
   "source": [
    "import os\n",
    "from dotenv import load_dotenv, find_dotenv\n",
    "_ = load_dotenv(find_dotenv()) # read local .env file\n",
    "AI_STUDIO_KEY = os.getenv(\"GOOGLE_AI_STUDIO_KEY\")\n",
    "print(AI_STUDIO_KEY)"
   ]
  },
  {
   "cell_type": "markdown",
   "metadata": {},
   "source": [
    "## Deploy Weaviate\n",
    "\n",
    "Weaviate offers 3 deployment options:\n",
    "* Embedded\n",
    "* Self-hosted - with Docker Compose\n",
    "* Cloud deployment - [Weaviate Cloud Service](https://console.weaviate.cloud/)"
   ]
  },
  {
   "cell_type": "markdown",
   "metadata": {},
   "source": [
    "# Time to Build\n",
    "## Connect to Weaviate"
   ]
  },
  {
   "cell_type": "code",
   "execution_count": null,
   "metadata": {},
   "outputs": [],
   "source": [
    "import weaviate, json\n",
    "\n",
    "# Connect to the local instance deployed with Docker Compose\n",
    "client = weaviate.connect_to_local(\n",
    "    headers={\n",
    "       \"X-Google-Api-Key\": AI_STUDIO_KEY,\n",
    "    }\n",
    ")\n",
    "\n",
    "client.is_ready()"
   ]
  },
  {
   "cell_type": "code",
   "execution_count": null,
   "metadata": {},
   "outputs": [],
   "source": [
    "import weaviate, os, json\n",
    "\n",
    "# Connect with Weaviate Embedded\n",
    "# client = weaviate.connect_to_embedded(\n",
    "#     version=\"1.24.14\",\n",
    "\n",
    "#     headers={\n",
    "#         \"X-Google-Api-Key\": AI_STUDIO_KEY,\n",
    "#     })\n",
    "\n",
    "# Connect to a Weaviate Cloud instance\n",
    "# client = weaviate.connect_to_wcs(\n",
    "#     cluster_url=os.getenv(\"WORKSHOP_DEMO_URL\"),\n",
    "#     auth_credentials=weaviate.auth.AuthApiKey(os.getenv(\"WORKSHOP_DEMO_KEY_ADMIN\")),\n",
    "\n",
    "#     headers={\n",
    "#        \"X-Palm-Api-Key\": AI_STUDIO_KEY,\n",
    "#     }\n",
    "# )\n",
    "\n",
    "# client.is_ready()"
   ]
  },
  {
   "cell_type": "code",
   "execution_count": null,
   "metadata": {},
   "outputs": [],
   "source": [
    "client.get_meta()"
   ]
  },
  {
   "cell_type": "markdown",
   "metadata": {},
   "source": [
    "## Create a collection\n",
    "[Weaviate Docs - collection creation and configuration](https://weaviate.io/developers/weaviate/configuration/schema-configuration)"
   ]
  },
  {
   "cell_type": "code",
   "execution_count": null,
   "metadata": {},
   "outputs": [],
   "source": [
    "from weaviate.classes.config import Configure\n",
    "\n",
    "if client.collections.exists(\"Jeopardy\"):\n",
    "    client.collections.delete(\"Jeopardy\")\n",
    "\n",
    "# Create a collection here - with Google as a vectorizer\n",
    "client.collections.create(\n",
    "    name=\"Jeopardy\",\n",
    "    vectorizer_config=Configure.Vectorizer.text2vec_palm(\n",
    "        model_id=\"embedding-001\",\n",
    "\n",
    "        project_id=\"-\", # this needs fixing\n",
    "        api_endpoint=\"generativelanguage.googleapis.com\"\n",
    "    ),\n",
    ")"
   ]
  },
  {
   "cell_type": "markdown",
   "metadata": {},
   "source": [
    "## Import data"
   ]
  },
  {
   "cell_type": "markdown",
   "metadata": {},
   "source": [
    "### Sample Data"
   ]
  },
  {
   "cell_type": "code",
   "execution_count": null,
   "metadata": {},
   "outputs": [],
   "source": [
    "import json\n",
    "\n",
    "with open(\"./jeopardy-100.json\") as file:\n",
    "    data_100 = json.load(file)\n",
    "\n",
    "print(json.dumps(data_100[0], indent=2))"
   ]
  },
  {
   "cell_type": "markdown",
   "metadata": {},
   "source": [
    "### Insert Many\n",
    "[Weaviate Docs - insert many](https://weaviate.io/developers/weaviate/manage-data/import)"
   ]
  },
  {
   "cell_type": "code",
   "execution_count": null,
   "metadata": {},
   "outputs": [],
   "source": [
    "# Insert data\n",
    "jeopardy = client.collections.get(\"Jeopardy\")\n",
    "jeopardy.data.insert_many(data_100)"
   ]
  },
  {
   "cell_type": "markdown",
   "metadata": {},
   "source": [
    "## Check the object count\n",
    "[Weaviate Docs - Aggregate](https://weaviate.io/developers/weaviate/search/aggregate#retrieve-the-count-meta-property)"
   ]
  },
  {
   "cell_type": "code",
   "execution_count": null,
   "metadata": {},
   "outputs": [],
   "source": [
    "questions = client.collections.get(\"Jeopardy\")\n",
    "questions.aggregate.over_all()"
   ]
  },
  {
   "cell_type": "markdown",
   "metadata": {},
   "source": [
    "### Data preview"
   ]
  },
  {
   "cell_type": "code",
   "execution_count": null,
   "metadata": {},
   "outputs": [],
   "source": [
    "# Show data preview\n",
    "jeopardy = client.collections.get(\"Jeopardy\")\n",
    "response = jeopardy.query.fetch_objects(limit=4)\n",
    "\n",
    "for item in response.objects:\n",
    "    # print(item.uuid, json.dumps(item.properties, indent=2))\n",
    "    print(item.uuid, item.properties)"
   ]
  },
  {
   "cell_type": "code",
   "execution_count": null,
   "metadata": {},
   "outputs": [],
   "source": [
    "# Show data preview - with vectors\n",
    "jeopardy = client.collections.get(\"Jeopardy\")\n",
    "response = jeopardy.query.fetch_objects(\n",
    "    limit=4,\n",
    "    include_vector=True\n",
    ")\n",
    "\n",
    "for item in response.objects:\n",
    "    print(item.properties)\n",
    "    print(item.vector, '\\n')"
   ]
  },
  {
   "cell_type": "markdown",
   "metadata": {},
   "source": [
    "## Close the client when done"
   ]
  },
  {
   "cell_type": "code",
   "execution_count": null,
   "metadata": {},
   "outputs": [],
   "source": [
    "client.close()"
   ]
  }
 ],
 "metadata": {
  "kernelspec": {
   "display_name": "Python 3",
   "language": "python",
   "name": "python3"
  },
  "language_info": {
   "codemirror_mode": {
    "name": "ipython",
    "version": 3
   },
   "file_extension": ".py",
   "mimetype": "text/x-python",
   "name": "python",
   "nbconvert_exporter": "python",
   "pygments_lexer": "ipython3",
   "version": "3.11.8"
  }
 },
 "nbformat": 4,
 "nbformat_minor": 2
}
